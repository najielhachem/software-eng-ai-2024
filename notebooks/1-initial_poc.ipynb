{
 "cells": [
  {
   "cell_type": "code",
   "execution_count": null,
   "id": "bb4186e3-94cf-4bce-b36b-71e89b732710",
   "metadata": {
    "id": "bb4186e3-94cf-4bce-b36b-71e89b732710"
   },
   "outputs": [],
   "source": [
    "import pandas as pd\n",
    "import pickle\n",
    "\n",
    "from sklearn.feature_extraction import DictVectorizer\n",
    "from sklearn.linear_model import LinearRegression, Lasso, Ridge\n",
    "from sklearn.metrics import mean_squared_error\n",
    "\n",
    "import seaborn as sns\n",
    "import matplotlib.pyplot as plt\n",
    "\n",
    "import warnings\n",
    "warnings.filterwarnings('ignore')"
   ]
  },
  {
   "cell_type": "markdown",
   "id": "97yfKrCqBVSc",
   "metadata": {
    "id": "97yfKrCqBVSc"
   },
   "source": [
    "### 1. Loading the data\n",
    "\n"
   ]
  },
  {
   "cell_type": "code",
   "execution_count": null,
   "id": "cbe379c6-5a79-491b-af10-c85039a1d13c",
   "metadata": {
    "id": "cbe379c6-5a79-491b-af10-c85039a1d13c"
   },
   "outputs": [],
   "source": [
    "df = pd.read_parquet('../data/yellow_tripdata_2023-01.parquet')"
   ]
  },
  {
   "cell_type": "code",
   "execution_count": null,
   "id": "bae4499b-1702-4cad-a747-09a3c9876bba",
   "metadata": {},
   "outputs": [],
   "source": [
    "df.shape"
   ]
  },
  {
   "cell_type": "code",
   "execution_count": null,
   "id": "6635ef08-4a6d-43f4-9b36-26c728aec8be",
   "metadata": {
    "colab": {
     "base_uri": "https://localhost:8080/",
     "height": 270
    },
    "id": "6635ef08-4a6d-43f4-9b36-26c728aec8be",
    "outputId": "17104c4c-3224-4dfc-eb71-d1e33d671148"
   },
   "outputs": [],
   "source": [
    "df.head()"
   ]
  },
  {
   "cell_type": "code",
   "execution_count": null,
   "id": "f055344d-f050-4fcf-8453-ee4a66407bfe",
   "metadata": {
    "colab": {
     "base_uri": "https://localhost:8080/"
    },
    "id": "f055344d-f050-4fcf-8453-ee4a66407bfe",
    "outputId": "68b659fe-15ba-468b-9f87-41122d66ba85"
   },
   "outputs": [],
   "source": [
    "df.columns"
   ]
  },
  {
   "cell_type": "markdown",
   "id": "pWrLGUESBed6",
   "metadata": {
    "id": "pWrLGUESBed6"
   },
   "source": [
    "### 2. Computing duration"
   ]
  },
  {
   "cell_type": "code",
   "execution_count": null,
   "id": "96833af9-9c56-4389-a481-a1e87b5c421b",
   "metadata": {},
   "outputs": [],
   "source": [
    "df.tpep_dropoff_datetime - df.tpep_pickup_datetime"
   ]
  },
  {
   "cell_type": "code",
   "execution_count": null,
   "id": "b186962d-7ee1-4b97-a457-7ef2b2de811a",
   "metadata": {
    "id": "b186962d-7ee1-4b97-a457-7ef2b2de811a"
   },
   "outputs": [],
   "source": [
    "df['duration'] = df.tpep_dropoff_datetime - df.tpep_pickup_datetime\n",
    "df['duration'] = df.duration.dt.total_seconds() / 60"
   ]
  },
  {
   "cell_type": "code",
   "execution_count": null,
   "id": "d2a96993-0b7d-47ea-bb20-72a44d5eb000",
   "metadata": {},
   "outputs": [],
   "source": [
    "df"
   ]
  },
  {
   "cell_type": "code",
   "execution_count": null,
   "id": "3dc09f11-a9cf-4001-9025-38fd2c7aede6",
   "metadata": {},
   "outputs": [],
   "source": [
    "df.duration"
   ]
  },
  {
   "cell_type": "code",
   "execution_count": null,
   "id": "9a7e29a3-0b7d-4d7b-94a1-8d81dfeca0e3",
   "metadata": {},
   "outputs": [],
   "source": [
    "sns.distplot(df.duration)"
   ]
  },
  {
   "cell_type": "code",
   "execution_count": null,
   "id": "3fc85c6e-9268-4bbc-be2c-f42311ab2b2a",
   "metadata": {},
   "outputs": [],
   "source": [
    "df.duration.describe()"
   ]
  },
  {
   "cell_type": "code",
   "execution_count": null,
   "id": "6ca8f90f-64ca-4175-b615-4beb5165dad6",
   "metadata": {},
   "outputs": [],
   "source": [
    "df.duration.describe(percentiles=[.95, .98, .99])"
   ]
  },
  {
   "cell_type": "markdown",
   "id": "ca0c395a-d5cf-4870-aa64-edb4809bc662",
   "metadata": {
    "id": "ca0c395a-d5cf-4870-aa64-edb4809bc662"
   },
   "source": [
    "### 3. Dropping outliers"
   ]
  },
  {
   "cell_type": "code",
   "execution_count": null,
   "id": "a06d9882-82bc-40eb-954e-ebabde6e5431",
   "metadata": {
    "colab": {
     "base_uri": "https://localhost:8080/"
    },
    "id": "a06d9882-82bc-40eb-954e-ebabde6e5431",
    "outputId": "b318ae8f-3d3c-4115-8111-9415bd7def9b"
   },
   "outputs": [],
   "source": [
    "len(df[(df.duration >= 1) & (df.duration <= 60)]) / len(df) * 100"
   ]
  },
  {
   "cell_type": "code",
   "execution_count": null,
   "id": "0fd4307e-f3b6-45ba-bf1d-82e4a1c09a9b",
   "metadata": {
    "id": "0fd4307e-f3b6-45ba-bf1d-82e4a1c09a9b"
   },
   "outputs": [],
   "source": [
    "df = df[(df.duration >= 1) & (df.duration <= 60)].copy()"
   ]
  },
  {
   "cell_type": "code",
   "execution_count": null,
   "id": "38036341-2614-471a-bbd9-490f0a3807d6",
   "metadata": {},
   "outputs": [],
   "source": [
    "df.shape"
   ]
  },
  {
   "cell_type": "markdown",
   "id": "00b428a6-3438-4482-91fb-04ed17f5fe8d",
   "metadata": {
    "id": "00b428a6-3438-4482-91fb-04ed17f5fe8d"
   },
   "source": [
    "### 4. One-hot encoding"
   ]
  },
  {
   "cell_type": "code",
   "execution_count": null,
   "id": "beb4931f-d3ff-4fff-ad38-7440271b6f47",
   "metadata": {},
   "outputs": [],
   "source": [
    "df.head()"
   ]
  },
  {
   "cell_type": "code",
   "execution_count": null,
   "id": "96043224-1a51-4922-901c-c660b0bc8a5b",
   "metadata": {
    "id": "96043224-1a51-4922-901c-c660b0bc8a5b"
   },
   "outputs": [],
   "source": [
    "categorical = ['PULocationID', 'DOLocationID']"
   ]
  },
  {
   "cell_type": "code",
   "execution_count": null,
   "id": "8853a0e2-7d3f-46e6-a45d-eeadc7c65bd1",
   "metadata": {
    "id": "8853a0e2-7d3f-46e6-a45d-eeadc7c65bd1"
   },
   "outputs": [],
   "source": [
    "df[categorical] = df[categorical].astype(str)"
   ]
  },
  {
   "cell_type": "code",
   "execution_count": null,
   "id": "dda3a22e-702d-4348-a169-4f708e37c31b",
   "metadata": {},
   "outputs": [],
   "source": [
    "df[categorical]"
   ]
  },
  {
   "cell_type": "code",
   "execution_count": null,
   "id": "3bb3cef4-bb13-4b20-a1ba-0c23b27062de",
   "metadata": {
    "id": "3bb3cef4-bb13-4b20-a1ba-0c23b27062de"
   },
   "outputs": [],
   "source": [
    "train_dicts = df[categorical].to_dict(orient='records')"
   ]
  },
  {
   "cell_type": "code",
   "execution_count": null,
   "id": "6c6f9380-16e3-4544-834c-82dc52faabab",
   "metadata": {
    "scrolled": true
   },
   "outputs": [],
   "source": [
    "train_dicts"
   ]
  },
  {
   "cell_type": "code",
   "execution_count": null,
   "id": "f89a6a92-bc5b-4aac-9366-aa9ea7029df6",
   "metadata": {
    "id": "f89a6a92-bc5b-4aac-9366-aa9ea7029df6"
   },
   "outputs": [],
   "source": [
    "dv = DictVectorizer()\n",
    "X_train = dv.fit_transform(train_dicts)"
   ]
  },
  {
   "cell_type": "code",
   "execution_count": null,
   "id": "09fbba12-5242-4037-9b88-1c3039db0d9c",
   "metadata": {},
   "outputs": [],
   "source": [
    "X_train"
   ]
  },
  {
   "cell_type": "code",
   "execution_count": null,
   "id": "bfb1d21f-23e8-411d-b70d-748b9b672efb",
   "metadata": {
    "colab": {
     "base_uri": "https://localhost:8080/"
    },
    "id": "bfb1d21f-23e8-411d-b70d-748b9b672efb",
    "outputId": "46aafa55-2e06-4f5b-b0cf-a14353d3dd95"
   },
   "outputs": [],
   "source": [
    "print(f'Feature matrix size: {X_train.shape}')"
   ]
  },
  {
   "cell_type": "markdown",
   "id": "bb9c2670-07b9-4813-9798-d367fc6535fe",
   "metadata": {
    "id": "bb9c2670-07b9-4813-9798-d367fc6535fe"
   },
   "source": [
    "### 5. Training a model"
   ]
  },
  {
   "cell_type": "code",
   "execution_count": null,
   "id": "098c5ff8-8e41-41a6-a7cd-760f9c79c1f9",
   "metadata": {
    "id": "098c5ff8-8e41-41a6-a7cd-760f9c79c1f9"
   },
   "outputs": [],
   "source": [
    "target = 'duration'\n",
    "y_train = df[target].values"
   ]
  },
  {
   "cell_type": "code",
   "execution_count": null,
   "id": "986fd495-62f8-455c-a652-946f144c5832",
   "metadata": {
    "colab": {
     "base_uri": "https://localhost:8080/"
    },
    "id": "986fd495-62f8-455c-a652-946f144c5832",
    "outputId": "f71a2119-1f4f-4d05-d60c-ad6dbd72b6c4"
   },
   "outputs": [],
   "source": [
    "lr = Lasso(0.1) #, Ridge\n",
    "lr.fit(X_train, y_train)\n",
    "\n",
    "y_pred = lr.predict(X_train)\n",
    "\n",
    "print(f'Train RMSE: {mean_squared_error(y_train, y_pred, squared=False)}')"
   ]
  },
  {
   "cell_type": "code",
   "execution_count": null,
   "id": "87051e49-1293-4e56-bda8-38e4f206e0ed",
   "metadata": {
    "colab": {
     "base_uri": "https://localhost:8080/",
     "height": 430
    },
    "id": "87051e49-1293-4e56-bda8-38e4f206e0ed",
    "outputId": "fb12601f-650e-421b-e120-a8a3236f37aa"
   },
   "outputs": [],
   "source": [
    "sns.histplot(y_train, label='actual')\n",
    "sns.histplot(y_pred, label='prediction')\n",
    "\n",
    "plt.legend();"
   ]
  },
  {
   "cell_type": "markdown",
   "id": "5259854b-65a5-4fd0-a8b9-87a41ce4835d",
   "metadata": {
    "id": "5259854b-65a5-4fd0-a8b9-87a41ce4835d"
   },
   "source": [
    "### 6. Evaluating the model"
   ]
  },
  {
   "cell_type": "code",
   "execution_count": null,
   "id": "86965e06-89c1-47eb-bc1a-734721e389cd",
   "metadata": {
    "id": "86965e06-89c1-47eb-bc1a-734721e389cd"
   },
   "outputs": [],
   "source": [
    "categorical = ['PULocationID', 'DOLocationID']\n",
    "\n",
    "def read_data(filename):\n",
    "    df = pd.read_parquet(filename)\n",
    "\n",
    "    df['duration'] = df.tpep_dropoff_datetime - df.tpep_pickup_datetime\n",
    "    df.duration = df.duration.dt.total_seconds() / 60\n",
    "\n",
    "    df = df[(df.duration >= 1) & (df.duration <= 60)].copy()\n",
    "\n",
    "    df[categorical] = df[categorical].astype('str')\n",
    "    \n",
    "    return df"
   ]
  },
  {
   "cell_type": "code",
   "execution_count": null,
   "id": "3e3c42e7-4fc2-4478-aa33-3b70bc12597a",
   "metadata": {
    "id": "3e3c42e7-4fc2-4478-aa33-3b70bc12597a"
   },
   "outputs": [],
   "source": [
    "df_val = read_data('../data/yellow_tripdata_2023-02.parquet')"
   ]
  },
  {
   "cell_type": "code",
   "execution_count": null,
   "id": "c3fd052d-029c-4358-8672-81bc50561832",
   "metadata": {
    "id": "c3fd052d-029c-4358-8672-81bc50561832"
   },
   "outputs": [],
   "source": [
    "val_dicts = df_val[categorical].to_dict(orient='records')"
   ]
  },
  {
   "cell_type": "code",
   "execution_count": null,
   "id": "2ccad0a0-8e05-48e3-963b-5d91e8092867",
   "metadata": {
    "id": "2ccad0a0-8e05-48e3-963b-5d91e8092867"
   },
   "outputs": [],
   "source": [
    "X_val = dv.transform(val_dicts) \n",
    "y_val = df_val.duration.values"
   ]
  },
  {
   "cell_type": "code",
   "execution_count": null,
   "id": "4a87e14b-92f8-4fbc-8fa9-77c1afe1ca56",
   "metadata": {
    "id": "4a87e14b-92f8-4fbc-8fa9-77c1afe1ca56"
   },
   "outputs": [],
   "source": [
    "y_pred = lr.predict(X_val)"
   ]
  },
  {
   "cell_type": "code",
   "execution_count": null,
   "id": "994d39c8-199d-462f-b249-b41aabc12cc1",
   "metadata": {
    "colab": {
     "base_uri": "https://localhost:8080/"
    },
    "id": "994d39c8-199d-462f-b249-b41aabc12cc1",
    "outputId": "b8625583-5828-4552-901a-cd4e38f9d2d2"
   },
   "outputs": [],
   "source": [
    "print(f'Val RMSE: {mean_squared_error(y_val, y_pred, squared=False)}')"
   ]
  },
  {
   "cell_type": "code",
   "execution_count": null,
   "id": "db3806b0",
   "metadata": {},
   "outputs": [],
   "source": [
    "sns.histplot(y_val, label='actual')\n",
    "sns.histplot(y_pred, label='prediction')\n",
    "\n",
    "plt.legend();"
   ]
  },
  {
   "cell_type": "markdown",
   "id": "33149928-1fd0-447b-8e0d-14638e04a097",
   "metadata": {},
   "source": [
    "### 7. Improve score"
   ]
  },
  {
   "cell_type": "code",
   "execution_count": null,
   "id": "40ce2987-ada9-4138-a773-a5c07b5d65cf",
   "metadata": {},
   "outputs": [],
   "source": [
    "df_train = read_data('../data/yellow_tripdata_2023-01.parquet')\n",
    "df_val = read_data('../data/yellow_tripdata_2023-02.parquet')"
   ]
  },
  {
   "cell_type": "code",
   "execution_count": null,
   "id": "c3c1b1de-1691-49ae-8951-4a046615fb96",
   "metadata": {},
   "outputs": [],
   "source": [
    "df_train"
   ]
  },
  {
   "cell_type": "markdown",
   "id": "ffeff62c-7cf6-47ce-af7b-621b0f839b9b",
   "metadata": {},
   "source": [
    "#### 7.1 Compute features"
   ]
  },
  {
   "cell_type": "code",
   "execution_count": null,
   "id": "ffceb61c-35dd-421d-b472-666555e46e73",
   "metadata": {},
   "outputs": [],
   "source": [
    "# use ['PULocationID', 'DOLocationID'] as combined feature"
   ]
  },
  {
   "cell_type": "code",
   "execution_count": null,
   "id": "b7ad70cd-f1da-47da-a092-c3b2adfefc5d",
   "metadata": {},
   "outputs": [],
   "source": [
    "df_train['PU_DO'] = df_train[\"PULocationID\"] + \"_\" + df_train[\"DOLocationID\"]"
   ]
  },
  {
   "cell_type": "code",
   "execution_count": null,
   "id": "6e7e4107-8e4b-4503-b58e-50524d127ba2",
   "metadata": {},
   "outputs": [],
   "source": [
    "df_train.head()"
   ]
  },
  {
   "cell_type": "code",
   "execution_count": null,
   "id": "ed8604b8-5bc8-44b7-afa8-3d8120f4e8a3",
   "metadata": {},
   "outputs": [],
   "source": [
    "df_val['PU_DO'] = df_val[\"PULocationID\"] + \"_\" + df_val[\"DOLocationID\"]"
   ]
  },
  {
   "cell_type": "markdown",
   "id": "04b700b5-2aac-4661-b8f3-9fab234e74da",
   "metadata": {},
   "source": [
    "#### 7.2 Launch training"
   ]
  },
  {
   "cell_type": "code",
   "execution_count": null,
   "id": "09e08bd5-3686-45ad-b58c-5577a00ca4ec",
   "metadata": {},
   "outputs": [],
   "source": [
    "categorical = ['PU_DO']\n",
    "target = 'duration'"
   ]
  },
  {
   "cell_type": "code",
   "execution_count": null,
   "id": "1d873235-748e-4e6b-94c2-96d56cd9501b",
   "metadata": {},
   "outputs": [],
   "source": [
    "dv = DictVectorizer()\n",
    "train_dicts = df_train[categorical].to_dict(orient='records')\n",
    "\n",
    "X_train = dv.fit_transform(train_dicts)\n",
    "y_train = df_train[target].values\n",
    "\n",
    "\n",
    "lr = LinearRegression()\n",
    "lr.fit(X_train, y_train)\n",
    "\n",
    "y_train_pred = lr.predict(X_train)\n",
    "print(f'Train RMSE: {mean_squared_error(y_train, y_train_pred, squared=False)}')"
   ]
  },
  {
   "cell_type": "code",
   "execution_count": null,
   "id": "478e3743-786d-4cb1-a192-6e48ce9f829a",
   "metadata": {},
   "outputs": [],
   "source": [
    "sns.distplot(y_train, label='actual')\n",
    "sns.distplot(y_train_pred, label='prediction')\n",
    "\n",
    "plt.legend()"
   ]
  },
  {
   "cell_type": "markdown",
   "id": "642bde12-4a86-4445-ab84-4342e07b49fe",
   "metadata": {},
   "source": [
    "#### 7.3 Run Validation"
   ]
  },
  {
   "cell_type": "code",
   "execution_count": null,
   "id": "e4d16fb7-2990-41e0-93c1-e532899c18d3",
   "metadata": {},
   "outputs": [],
   "source": [
    "val_dicts = df_val[categorical].to_dict(orient='records')\n",
    "\n",
    "X_val = dv.transform(val_dicts) \n",
    "y_val = df_val[target].values\n",
    "\n",
    "y_val_pred = lr.predict(X_val)\n",
    "print(f'Train RMSE: {mean_squared_error(y_val, y_val_pred, squared=False)}')"
   ]
  },
  {
   "cell_type": "code",
   "execution_count": null,
   "id": "16f2785e-27ab-484e-b1f9-62a1ea26c65d",
   "metadata": {},
   "outputs": [],
   "source": [
    "sns.distplot(y_val, label='actual')\n",
    "sns.distplot(y_val_pred, label='prediction')\n",
    "\n",
    "plt.legend()"
   ]
  },
  {
   "cell_type": "markdown",
   "id": "a765023f-e770-441b-93ea-dfd066ae8f21",
   "metadata": {},
   "source": [
    "### 8. Save model"
   ]
  },
  {
   "cell_type": "code",
   "execution_count": null,
   "id": "ce78b00c-ff33-470e-b73b-11bec0218198",
   "metadata": {},
   "outputs": [],
   "source": [
    "with open('../models/lin_reg.bin', 'wb') as f_out:\n",
    "    pickle.dump((dv, lr), f_out)"
   ]
  },
  {
   "cell_type": "code",
   "execution_count": null,
   "id": "669a55ac-c358-4ad9-b1ec-41d097c95986",
   "metadata": {},
   "outputs": [],
   "source": [
    "!ls -al ../models"
   ]
  },
  {
   "cell_type": "code",
   "execution_count": null,
   "id": "62884d13-3795-40f7-b6ee-ec07a688e3ff",
   "metadata": {},
   "outputs": [],
   "source": []
  }
 ],
 "metadata": {
  "colab": {
   "provenance": []
  },
  "kernelspec": {
   "display_name": "venv",
   "language": "python",
   "name": "venv"
  },
  "language_info": {
   "codemirror_mode": {
    "name": "ipython",
    "version": 3
   },
   "file_extension": ".py",
   "mimetype": "text/x-python",
   "name": "python",
   "nbconvert_exporter": "python",
   "pygments_lexer": "ipython3",
   "version": "3.12.6"
  }
 },
 "nbformat": 4,
 "nbformat_minor": 5
}
