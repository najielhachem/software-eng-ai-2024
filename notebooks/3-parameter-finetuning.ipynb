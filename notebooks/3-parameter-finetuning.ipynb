{
 "cells": [
  {
   "cell_type": "markdown",
   "id": "5e89ea5a-f0f5-4e26-bef0-09b4209773d1",
   "metadata": {},
   "source": [
    "### Import Modules"
   ]
  },
  {
   "cell_type": "code",
   "execution_count": null,
   "id": "2412106c-58af-4021-84ba-1d3bfad82ae9",
   "metadata": {},
   "outputs": [],
   "source": [
    "import pandas as pd"
   ]
  },
  {
   "cell_type": "code",
   "execution_count": null,
   "id": "1e6d773c-ad0b-4dd5-9633-7a91fc0d98d9",
   "metadata": {},
   "outputs": [],
   "source": [
    "from sklearn.feature_extraction import DictVectorizer\n",
    "from sklearn.linear_model import LinearRegression, Lasso, Ridge\n",
    "from sklearn.metrics import mean_squared_error"
   ]
  },
  {
   "cell_type": "code",
   "execution_count": null,
   "id": "c904e557-1700-47b1-a19a-048575364f4f",
   "metadata": {},
   "outputs": [],
   "source": [
    "import mlflow"
   ]
  },
  {
   "cell_type": "code",
   "execution_count": null,
   "id": "1b9a9d8c-a69b-4cfb-9901-3f5d1974b2e6",
   "metadata": {},
   "outputs": [],
   "source": [
    "import seaborn as sns\n",
    "import matplotlib.pyplot as plt"
   ]
  },
  {
   "cell_type": "code",
   "execution_count": null,
   "id": "bb4186e3-94cf-4bce-b36b-71e89b732710",
   "metadata": {
    "id": "bb4186e3-94cf-4bce-b36b-71e89b732710"
   },
   "outputs": [],
   "source": [
    "import warnings\n",
    "warnings.filterwarnings('ignore')"
   ]
  },
  {
   "cell_type": "code",
   "execution_count": null,
   "id": "c1be9a52-5ae8-4c48-b7ab-37c99bab4f83",
   "metadata": {},
   "outputs": [],
   "source": [
    "import pickle"
   ]
  },
  {
   "cell_type": "markdown",
   "id": "27189855-a4cd-4e94-88dd-ca7a89882ff3",
   "metadata": {},
   "source": [
    "### Simple MLFlow usecase"
   ]
  },
  {
   "cell_type": "code",
   "execution_count": null,
   "id": "b5ee6808-eff4-453b-a028-711e7b3f79c0",
   "metadata": {},
   "outputs": [],
   "source": [
    "mlflow.set_tracking_uri(\"sqlite:///../mlruns.db\")"
   ]
  },
  {
   "cell_type": "code",
   "execution_count": null,
   "id": "54cda933-0c0d-460d-a34a-559f64429918",
   "metadata": {},
   "outputs": [],
   "source": [
    "mlflow.set_experiment(\"NYC-Duration-Exp2\")"
   ]
  },
  {
   "cell_type": "code",
   "execution_count": null,
   "id": "3adce89e-b0cb-498d-ae6b-a091cee5893f",
   "metadata": {},
   "outputs": [],
   "source": [
    "mlflow.search_experiments()"
   ]
  },
  {
   "cell_type": "markdown",
   "id": "d1c317ba-e2ef-4e99-819f-b03cd17c9e4d",
   "metadata": {},
   "source": [
    "### Read and Preprocess data"
   ]
  },
  {
   "cell_type": "code",
   "execution_count": null,
   "id": "61d54e74-ac08-4234-8027-d3ef22de1f99",
   "metadata": {
    "id": "86965e06-89c1-47eb-bc1a-734721e389cd"
   },
   "outputs": [],
   "source": [
    "def read_data(filename):\n",
    "    df = pd.read_parquet(filename)\n",
    "\n",
    "    df['duration'] = df.tpep_dropoff_datetime - df.tpep_pickup_datetime\n",
    "    df.duration = df.duration.dt.total_seconds() / 60\n",
    "\n",
    "    df = df[(df.duration >= 1) & (df.duration <= 60)].copy()\n",
    "    \n",
    "    return df"
   ]
  },
  {
   "cell_type": "code",
   "execution_count": null,
   "id": "57d791b2-80b7-421d-ba37-def08d90facc",
   "metadata": {},
   "outputs": [],
   "source": [
    "train_data_path = '../data/yellow_tripdata_2023-01.parquet'\n",
    "val_data_path = '../data/yellow_tripdata_2023-02.parquet'"
   ]
  },
  {
   "cell_type": "code",
   "execution_count": null,
   "id": "b6665e81-e2ea-4530-80d7-b87c3b688716",
   "metadata": {
    "id": "3e3c42e7-4fc2-4478-aa33-3b70bc12597a"
   },
   "outputs": [],
   "source": [
    "df_train = read_data(train_data_path)\n",
    "df_val = read_data(val_data_path)"
   ]
  },
  {
   "cell_type": "code",
   "execution_count": null,
   "id": "b7ad70cd-f1da-47da-a092-c3b2adfefc5d",
   "metadata": {},
   "outputs": [],
   "source": [
    "# Preprocess data\n",
    "str_columns = [\"PULocationID\", \"DOLocationID\"]\n",
    "df_train[str_columns] = df_train[str_columns].astype('str')\n",
    "df_val[str_columns] = df_val[str_columns].astype('str')\n",
    "\n",
    "# Compute features\n",
    "df_train['PU_DO'] = df_train[\"PULocationID\"] + \"_\" + df_train[\"DOLocationID\"]\n",
    "df_val['PU_DO'] = df_val[\"PULocationID\"] + \"_\" + df_val[\"DOLocationID\"]"
   ]
  },
  {
   "cell_type": "code",
   "execution_count": null,
   "id": "32d14371-9cab-4e01-bad4-eb104509e305",
   "metadata": {},
   "outputs": [],
   "source": [
    "categorical = ['PU_DO'] #'PULocationID', 'DOLocationID'\n",
    "numerical = ['trip_distance']\n",
    "\n",
    "# get columns as dict\n",
    "train_dicts = df_train[categorical + numerical].to_dict(orient='records')\n",
    "val_dicts = df_val[categorical + numerical].to_dict(orient='records')\n",
    "\n",
    "# fit transform dict vectorizer\n",
    "dv = DictVectorizer()\n",
    "X_train = dv.fit_transform(train_dicts)\n",
    "X_val = dv.transform(val_dicts)"
   ]
  },
  {
   "cell_type": "code",
   "execution_count": null,
   "id": "376fdb64-ba07-4607-b150-0caf21cfa372",
   "metadata": {},
   "outputs": [],
   "source": [
    "X_train.shape, X_val.shape"
   ]
  },
  {
   "cell_type": "code",
   "execution_count": null,
   "id": "6453e6a6-7c87-4e38-9432-7c22c66e660a",
   "metadata": {},
   "outputs": [],
   "source": [
    "y_train = df_train.duration.values\n",
    "y_val = df_val.duration.values"
   ]
  },
  {
   "cell_type": "code",
   "execution_count": null,
   "id": "6d68d6b2-76d1-4e2e-8a22-d484da17729d",
   "metadata": {},
   "outputs": [],
   "source": [
    "y_train.shape, y_val.shape"
   ]
  },
  {
   "cell_type": "markdown",
   "id": "b09b5e3a-6136-4627-adb6-53f0283a867a",
   "metadata": {},
   "source": [
    "### Train and evaluate model with MLFLow Tracking"
   ]
  },
  {
   "cell_type": "code",
   "execution_count": null,
   "id": "bce5fd0f-6d31-4904-9ae4-871d84158ba9",
   "metadata": {},
   "outputs": [],
   "source": [
    "with mlflow.start_run():\n",
    "    mlflow.set_tag(\"dev\", \"naji\")\n",
    "    mlflow.log_param(\"train dp\", train_data_path)\n",
    "    mlflow.log_param(\"val dp\", val_data_path)\n",
    "\n",
    "    alpha = 0.5\n",
    "    lr = Ridge(alpha)\n",
    "    mlflow.log_param(\"alpha\", alpha)\n",
    "    \n",
    "    lr.fit(X_train, y_train)\n",
    "    \n",
    "    y_train_pred = lr.predict(X_train)\n",
    "    train_rmse = mean_squared_error(y_train, y_train_pred, squared=False)\n",
    "    mlflow.log_metric(\"Train RMSE\", train_rmse)\n",
    "    \n",
    "    y_val_pred = lr.predict(X_val)\n",
    "    val_rmse = mean_squared_error(y_val, y_val_pred, squared=False)\n",
    "    mlflow.log_metric(\"Val RMSE\", val_rmse)"
   ]
  },
  {
   "cell_type": "code",
   "execution_count": null,
   "id": "933d3987-a411-411b-a9a1-99231d953a48",
   "metadata": {},
   "outputs": [],
   "source": [
    "print(f'Train RMSE: {train_rmse}')\n",
    "print(f'Val RMSE: {val_rmse}')"
   ]
  },
  {
   "cell_type": "markdown",
   "id": "bd1cf1de-7a85-42f4-9b20-b31b8cce07ca",
   "metadata": {},
   "source": [
    "### Parameter Search with XGBoost"
   ]
  },
  {
   "cell_type": "code",
   "execution_count": null,
   "id": "b7a66a6a-261d-4859-af2e-1bba356720f5",
   "metadata": {},
   "outputs": [],
   "source": [
    "import xgboost as xgb"
   ]
  },
  {
   "cell_type": "code",
   "execution_count": null,
   "id": "d72efd79-33ba-496d-ba0d-698c71fae847",
   "metadata": {},
   "outputs": [],
   "source": [
    "from hyperopt import fmin, tpe, hp, STATUS_OK, Trials\n",
    "from hyperopt.pyll import scope"
   ]
  },
  {
   "cell_type": "code",
   "execution_count": null,
   "id": "b54784d4-954e-46eb-9c68-b3744c3cdc32",
   "metadata": {},
   "outputs": [],
   "source": [
    "# Transform data to XGBoost format\n",
    "train = xgb.DMatrix(X_train, label=y_train)\n",
    "valid = xgb.DMatrix(X_val, label=y_val)"
   ]
  },
  {
   "cell_type": "code",
   "execution_count": null,
   "id": "351b9c7a-5748-4e7f-a08d-19b000690426",
   "metadata": {},
   "outputs": [],
   "source": [
    "def objective(params):\n",
    "    with mlflow.start_run():\n",
    "        mlflow.set_tag(\"model\", \"xgboost\")\n",
    "        mlflow.log_params(params)\n",
    "        booster = xgb.train(\n",
    "            params=params,\n",
    "            dtrain=train,\n",
    "            num_boost_round=1000,\n",
    "            evals=[(valid, 'validation')],\n",
    "            early_stopping_rounds=50\n",
    "        )\n",
    "        y_pred = booster.predict(valid)\n",
    "        rmse = mean_squared_error(y_val, y_pred, squared=False)\n",
    "        mlflow.log_metric(\"rmse\", rmse)\n",
    "\n",
    "    return {'loss': rmse, 'status': STATUS_OK}"
   ]
  },
  {
   "cell_type": "code",
   "execution_count": null,
   "id": "37bbc7dc-c02a-4e14-8fce-d31dd0625d46",
   "metadata": {},
   "outputs": [],
   "source": [
    "search_space = {\n",
    "    'max_depth': scope.int(hp.quniform('max_depth', 4, 100, 1)),\n",
    "    'learning_rate': hp.loguniform('learning_rate', -3, 0),\n",
    "    'reg_alpha': hp.loguniform('reg_alpha', -5, -1),\n",
    "    'reg_lambda': hp.loguniform('reg_lambda', -6, -1),\n",
    "    'min_child_weight': hp.loguniform('min_child_weight', -1, 3),\n",
    "    'objective': 'reg:linear',\n",
    "    'seed': 42\n",
    "}"
   ]
  },
  {
   "cell_type": "code",
   "execution_count": null,
   "id": "466d3654-e1de-4c62-a932-e4bb524ee725",
   "metadata": {
    "scrolled": true
   },
   "outputs": [],
   "source": [
    "best_result = fmin(\n",
    "    fn=objective,\n",
    "    space=search_space,\n",
    "    algo=tpe.suggest,\n",
    "    max_evals=50,\n",
    "    trials=Trials()\n",
    ")"
   ]
  },
  {
   "cell_type": "markdown",
   "id": "f9a65e4a-f22e-4c1b-855a-6f9ac20a46ca",
   "metadata": {},
   "source": [
    "### Train best model"
   ]
  },
  {
   "cell_type": "code",
   "execution_count": null,
   "id": "185a507e-1dfb-4ab7-843a-e3e8f6a6edd0",
   "metadata": {},
   "outputs": [],
   "source": [
    "params = {\n",
    "    'learning_rate': 0.2571221506436322,\n",
    "    'max_depth': 78,\n",
    "    'min_child_weight': 6.7194469896916535,\n",
    "    'objective': 'reg:linear',\n",
    "    'reg_alpha': 0.07394910234968388,\n",
    "    'reg_lambda': 0.03219643217248881,\n",
    "    'seed': 42\n",
    "}"
   ]
  },
  {
   "cell_type": "code",
   "execution_count": null,
   "id": "44bcbfdf-5e79-4567-a2ce-7ed2f3316549",
   "metadata": {},
   "outputs": [],
   "source": [
    "mlflow.xgboost.autolog(log_datasets=False)"
   ]
  },
  {
   "cell_type": "code",
   "execution_count": null,
   "id": "88d84118-ce17-4cfc-b7ff-8cb849fb89fd",
   "metadata": {},
   "outputs": [],
   "source": [
    "booster = xgb.train(\n",
    "    params=params,\n",
    "    dtrain=train,\n",
    "    num_boost_round=1000,\n",
    "    evals=[(valid, 'validation')],\n",
    "    early_stopping_rounds=50\n",
    ")"
   ]
  },
  {
   "cell_type": "code",
   "execution_count": null,
   "id": "7df2312a-4c16-48be-9738-af91c26c62ba",
   "metadata": {},
   "outputs": [],
   "source": [
    "mlflow.xgboost.autolog(disable=False)"
   ]
  },
  {
   "cell_type": "code",
   "execution_count": null,
   "id": "fbe6bc78-a976-4d0f-b651-e729134f84c5",
   "metadata": {},
   "outputs": [],
   "source": [
    "with mlflow.start_run():\n",
    "    mlflow.set_tag(\"model\", \"xgboost-best\")\n",
    "    mlflow.log_params(params)\n",
    "    booster = xgb.train(\n",
    "        params=params,\n",
    "        dtrain=train,\n",
    "        num_boost_round=1000,\n",
    "        evals=[(valid, 'validation')],\n",
    "        early_stopping_rounds=50\n",
    "    )\n",
    "    y_pred = booster.predict(valid)\n",
    "    rmse = mean_squared_error(y_val, y_pred, squared=False)\n",
    "    mlflow.log_metric('rmse', rmse)\n",
    "    mlflow.xgboost.log_model(booster, \"models_mlflow\")"
   ]
  }
 ],
 "metadata": {
  "colab": {
   "provenance": []
  },
  "kernelspec": {
   "display_name": "venv",
   "language": "python",
   "name": "venv"
  },
  "language_info": {
   "codemirror_mode": {
    "name": "ipython",
    "version": 3
   },
   "file_extension": ".py",
   "mimetype": "text/x-python",
   "name": "python",
   "nbconvert_exporter": "python",
   "pygments_lexer": "ipython3",
   "version": "3.12.6"
  }
 },
 "nbformat": 4,
 "nbformat_minor": 5
}
