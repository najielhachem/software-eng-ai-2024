{
 "cells": [
  {
   "cell_type": "markdown",
   "id": "5e89ea5a-f0f5-4e26-bef0-09b4209773d1",
   "metadata": {},
   "source": [
    "### Import Modules"
   ]
  },
  {
   "cell_type": "code",
   "execution_count": null,
   "id": "2412106c-58af-4021-84ba-1d3bfad82ae9",
   "metadata": {},
   "outputs": [],
   "source": [
    "import pandas as pd"
   ]
  },
  {
   "cell_type": "code",
   "execution_count": null,
   "id": "1e6d773c-ad0b-4dd5-9633-7a91fc0d98d9",
   "metadata": {},
   "outputs": [],
   "source": [
    "from sklearn.feature_extraction import DictVectorizer\n",
    "from sklearn.linear_model import LinearRegression, Lasso, Ridge\n",
    "from sklearn.metrics import mean_squared_error"
   ]
  },
  {
   "cell_type": "code",
   "execution_count": null,
   "id": "e7c443d4-aabc-4ddd-93f2-a659e544dce1",
   "metadata": {},
   "outputs": [],
   "source": [
    "import mlflow"
   ]
  },
  {
   "cell_type": "code",
   "execution_count": null,
   "id": "1b9a9d8c-a69b-4cfb-9901-3f5d1974b2e6",
   "metadata": {},
   "outputs": [],
   "source": [
    "import seaborn as sns\n",
    "import matplotlib.pyplot as plt"
   ]
  },
  {
   "cell_type": "code",
   "execution_count": null,
   "id": "bb4186e3-94cf-4bce-b36b-71e89b732710",
   "metadata": {
    "id": "bb4186e3-94cf-4bce-b36b-71e89b732710"
   },
   "outputs": [],
   "source": [
    "import warnings\n",
    "warnings.filterwarnings('ignore')"
   ]
  },
  {
   "cell_type": "code",
   "execution_count": null,
   "id": "c1be9a52-5ae8-4c48-b7ab-37c99bab4f83",
   "metadata": {},
   "outputs": [],
   "source": [
    "import pickle"
   ]
  },
  {
   "cell_type": "markdown",
   "id": "27189855-a4cd-4e94-88dd-ca7a89882ff3",
   "metadata": {},
   "source": [
    "### Set Experiment and Tracking URI"
   ]
  },
  {
   "cell_type": "code",
   "execution_count": null,
   "id": "b5ee6808-eff4-453b-a028-711e7b3f79c0",
   "metadata": {},
   "outputs": [],
   "source": [
    "mlflow.set_tracking_uri(\"sqlite:///../mlruns.db\")"
   ]
  },
  {
   "cell_type": "code",
   "execution_count": null,
   "id": "54cda933-0c0d-460d-a34a-559f64429918",
   "metadata": {},
   "outputs": [],
   "source": [
    "mlflow.set_experiment(\"NYC-Duration-Exp4\")"
   ]
  },
  {
   "cell_type": "markdown",
   "id": "d1c317ba-e2ef-4e99-819f-b03cd17c9e4d",
   "metadata": {},
   "source": [
    "### Read and Preprocess data"
   ]
  },
  {
   "cell_type": "code",
   "execution_count": null,
   "id": "61d54e74-ac08-4234-8027-d3ef22de1f99",
   "metadata": {
    "id": "86965e06-89c1-47eb-bc1a-734721e389cd"
   },
   "outputs": [],
   "source": [
    "def read_data(filename):\n",
    "    df = pd.read_parquet(filename)\n",
    "\n",
    "    df['duration'] = df.tpep_dropoff_datetime - df.tpep_pickup_datetime\n",
    "    df.duration = df.duration.dt.total_seconds() / 60\n",
    "\n",
    "    df = df[(df.duration >= 1) & (df.duration <= 60)].copy()\n",
    "    \n",
    "    return df"
   ]
  },
  {
   "cell_type": "code",
   "execution_count": null,
   "id": "57d791b2-80b7-421d-ba37-def08d90facc",
   "metadata": {},
   "outputs": [],
   "source": [
    "train_data_path = '../data/yellow_tripdata_2023-01.parquet'\n",
    "val_data_path = '../data/yellow_tripdata_2023-02.parquet'"
   ]
  },
  {
   "cell_type": "code",
   "execution_count": null,
   "id": "b6665e81-e2ea-4530-80d7-b87c3b688716",
   "metadata": {
    "id": "3e3c42e7-4fc2-4478-aa33-3b70bc12597a"
   },
   "outputs": [],
   "source": [
    "df_train = read_data(train_data_path)\n",
    "df_val = read_data(val_data_path)"
   ]
  },
  {
   "cell_type": "code",
   "execution_count": null,
   "id": "5f5b6cc5-233c-4cf3-bcfe-1fcbc24af55f",
   "metadata": {},
   "outputs": [],
   "source": [
    "def compute_features(df):\n",
    "    str_columns = [\"PULocationID\", \"DOLocationID\"]\n",
    "    df[str_columns] = df[str_columns].astype('str')\n",
    "    df['PU_DO'] = df_train[\"PULocationID\"] + \"_\" + df_train[\"DOLocationID\"]\n",
    "\n",
    "    return df\n",
    "\n",
    "def extract_features_target(df):\n",
    "    df = compute_features(df)\n",
    "    \n",
    "    categorical = ['PU_DO']\n",
    "    numerical = ['trip_distance']\n",
    "\n",
    "    return df[categorical + numerical], df.duration.values"
   ]
  },
  {
   "cell_type": "code",
   "execution_count": null,
   "id": "b7ad70cd-f1da-47da-a092-c3b2adfefc5d",
   "metadata": {},
   "outputs": [],
   "source": [
    "X_train, y_train = extract_features_target(df_train)\n",
    "X_val, y_val = extract_features_target(df_val)"
   ]
  },
  {
   "cell_type": "code",
   "execution_count": null,
   "id": "32d14371-9cab-4e01-bad4-eb104509e305",
   "metadata": {},
   "outputs": [],
   "source": [
    "## Fit-Transform vectorizer\n",
    "\n",
    "# get columns as dict\n",
    "train_dicts = X_train.to_dict(orient='records')\n",
    "val_dicts = X_val.to_dict(orient='records')\n",
    "\n",
    "# fit transform dict vectorizer\n",
    "dv = DictVectorizer()\n",
    "X_train = dv.fit_transform(train_dicts)\n",
    "X_val = dv.transform(val_dicts)"
   ]
  },
  {
   "cell_type": "code",
   "execution_count": null,
   "id": "376fdb64-ba07-4607-b150-0caf21cfa372",
   "metadata": {},
   "outputs": [],
   "source": [
    "X_train.shape, X_val.shape"
   ]
  },
  {
   "cell_type": "code",
   "execution_count": null,
   "id": "6453e6a6-7c87-4e38-9432-7c22c66e660a",
   "metadata": {},
   "outputs": [],
   "source": [
    "y_train = df_train.duration.values\n",
    "y_val = df_val.duration.values"
   ]
  },
  {
   "cell_type": "code",
   "execution_count": null,
   "id": "6d68d6b2-76d1-4e2e-8a22-d484da17729d",
   "metadata": {},
   "outputs": [],
   "source": [
    "y_train.shape, y_val.shape"
   ]
  },
  {
   "cell_type": "markdown",
   "id": "b09b5e3a-6136-4627-adb6-53f0283a867a",
   "metadata": {},
   "source": [
    "### Train and evaluate"
   ]
  },
  {
   "cell_type": "code",
   "execution_count": null,
   "id": "7aa49feb-2439-42fd-a97d-04798f4e5434",
   "metadata": {},
   "outputs": [],
   "source": [
    "# Define model\n",
    "alpha = 0.5\n",
    "lr = Ridge(alpha)\n",
    "\n",
    "# Train model\n",
    "lr.fit(X_train, y_train)\n",
    "\n",
    "# Eval model\n",
    "y_train_pred = lr.predict(X_train)\n",
    "train_rmse = mean_squared_error(y_train, y_train_pred, squared=False)\n",
    "\n",
    "y_val_pred = lr.predict(X_val)\n",
    "val_rmse = mean_squared_error(y_val, y_val_pred, squared=False)"
   ]
  },
  {
   "cell_type": "code",
   "execution_count": null,
   "id": "b749ea79-8a8a-43fd-9d29-e211c96741cc",
   "metadata": {},
   "outputs": [],
   "source": [
    "print(f\"Train RMSE: {train_rmse:.2f}\")\n",
    "print(f\"Validation RMSE: {val_rmse:.2f}\")"
   ]
  },
  {
   "cell_type": "markdown",
   "id": "0f55717b-a8c0-4ab0-b297-eea5b28176f2",
   "metadata": {},
   "source": [
    "### Tracking with MLFlow"
   ]
  },
  {
   "cell_type": "code",
   "execution_count": null,
   "id": "a7c7c79a-e18d-4d63-8f92-a781b3f475f9",
   "metadata": {},
   "outputs": [],
   "source": [
    "mlflow.autolog(disable=True)"
   ]
  },
  {
   "cell_type": "code",
   "execution_count": null,
   "id": "bce5fd0f-6d31-4904-9ae4-871d84158ba9",
   "metadata": {},
   "outputs": [],
   "source": [
    "with mlflow.start_run():\n",
    "    # Log tag\n",
    "    mlflow.set_tag(\"model type\", \"ridge\")\n",
    "    \n",
    "    # Log params\n",
    "    mlflow.log_param(\"train dp\", train_data_path)\n",
    "    mlflow.log_param(\"val dp\", val_data_path)\n",
    "    mlflow.log_param(\"alpha\", alpha)\n",
    "\n",
    "    # Log metrics\n",
    "    mlflow.log_metric(\"Train RMSE\", train_rmse)\n",
    "    mlflow.log_metric(\"Val RMSE\", val_rmse)"
   ]
  },
  {
   "cell_type": "markdown",
   "id": "c10bb7ba-a3a7-420f-8176-f226394d1ea2",
   "metadata": {},
   "source": [
    "### Save model and vectorizers as artifact"
   ]
  },
  {
   "cell_type": "code",
   "execution_count": null,
   "id": "027a83cc-26f4-49d8-b39f-c35bcb2466fc",
   "metadata": {},
   "outputs": [],
   "source": [
    "# Save both model and vectorizers with pickle\n",
    "# ..."
   ]
  },
  {
   "cell_type": "code",
   "execution_count": null,
   "id": "9fcc58c9-d4af-4e70-84d7-ee045514b3b7",
   "metadata": {},
   "outputs": [],
   "source": [
    "# Log params, metrics, and artifact\n",
    "# ..."
   ]
  },
  {
   "cell_type": "markdown",
   "id": "d1b0b8c0-bea0-43e2-b491-72a2f0a45424",
   "metadata": {},
   "source": [
    "### Save vectorizer only as artifact"
   ]
  },
  {
   "cell_type": "code",
   "execution_count": null,
   "id": "6b3e2a6f-dfe3-4e67-9100-6adc20654d3d",
   "metadata": {},
   "outputs": [],
   "source": [
    "from mlflow.models import infer_signature"
   ]
  },
  {
   "cell_type": "code",
   "execution_count": null,
   "id": "7f49f6c1-0cfb-4839-a308-86ba2a879245",
   "metadata": {},
   "outputs": [],
   "source": [
    "# Save vectorizer with pickle\n",
    "# ..."
   ]
  },
  {
   "cell_type": "code",
   "execution_count": null,
   "id": "1e03d266-fd93-4240-8886-e3c3f5c7c0ad",
   "metadata": {},
   "outputs": [],
   "source": [
    "# Log params, metrics, artifact and model\n",
    "# ...\n",
    "# Use signature when logging model"
   ]
  },
  {
   "cell_type": "markdown",
   "id": "76041783-dd1c-49e8-9e78-e1ebcdc424c8",
   "metadata": {},
   "source": [
    "### Load model"
   ]
  },
  {
   "cell_type": "markdown",
   "id": "8a77ea36-5527-4956-bf18-63655491f4f9",
   "metadata": {},
   "source": [
    "#### Case: model and vectorizer logged as artifact "
   ]
  },
  {
   "cell_type": "code",
   "execution_count": null,
   "id": "aa718c76-48d4-4d69-8396-80b4ff44112a",
   "metadata": {},
   "outputs": [],
   "source": [
    "run_id = \"d3d954b0d92540b5984a22ddbf010a9a\"\n",
    "artifact_name = \"lin_reg.bin\""
   ]
  },
  {
   "cell_type": "code",
   "execution_count": null,
   "id": "eca4735b-26d7-44a0-9ef1-c290d9701a67",
   "metadata": {},
   "outputs": [],
   "source": [
    "artifact_path = mlflow.artifacts.download_artifacts(artifact_uri=f\"runs:/{run_id}/{artifact_name}\")"
   ]
  },
  {
   "cell_type": "code",
   "execution_count": null,
   "id": "6f2d30ca-4a4d-4e5d-8a6b-5ca2fc92d2a2",
   "metadata": {},
   "outputs": [],
   "source": [
    "artifact_path"
   ]
  },
  {
   "cell_type": "code",
   "execution_count": null,
   "id": "6d25759a-6ee4-4f58-a2a3-2d1983620d31",
   "metadata": {},
   "outputs": [],
   "source": [
    "with open(artifact_path, 'rb') as f_in:\n",
    "    loaded_dv, loaded_lr = pickle.load(f_in)"
   ]
  },
  {
   "cell_type": "code",
   "execution_count": null,
   "id": "ff099223-420b-4a1f-a202-d82752997455",
   "metadata": {},
   "outputs": [],
   "source": [
    "loaded_dv, loaded_lr"
   ]
  },
  {
   "cell_type": "markdown",
   "id": "71f46ab7-a5b7-44c7-b367-ae68c104f928",
   "metadata": {},
   "source": [
    "#### Case: only vectorizer as artifact"
   ]
  },
  {
   "cell_type": "code",
   "execution_count": null,
   "id": "55fb1c91-cac9-4e6e-af45-6686d6a618fa",
   "metadata": {},
   "outputs": [],
   "source": [
    "# run_id = \"\"\n",
    "# artifact_name = \"\""
   ]
  },
  {
   "cell_type": "code",
   "execution_count": null,
   "id": "1d3bba1f-971b-4bd4-ad78-75f3fa61c5cc",
   "metadata": {},
   "outputs": [],
   "source": [
    "# Build artifact uri runs:/{run_id}/{artifact_path}\n",
    "artifact_path = mlflow.artifacts.download_artifacts(artifact_uri=f\"runs:/{run_id}/{artifact_name}\")"
   ]
  },
  {
   "cell_type": "code",
   "execution_count": null,
   "id": "ac3ceea1-db2e-44b9-bc59-748383337a5f",
   "metadata": {},
   "outputs": [],
   "source": [
    "artifact_path"
   ]
  },
  {
   "cell_type": "code",
   "execution_count": null,
   "id": "c8b0a7c0-09c7-48d5-8c1a-da3f1bf99681",
   "metadata": {},
   "outputs": [],
   "source": [
    "# load vectorizer\n",
    "# ..."
   ]
  },
  {
   "cell_type": "code",
   "execution_count": null,
   "id": "db085107-7983-48be-854c-1e352395cf4a",
   "metadata": {},
   "outputs": [],
   "source": [
    "model_uri = f\"runs:/{run_id}/models\"\n",
    "model_uri"
   ]
  },
  {
   "cell_type": "code",
   "execution_count": null,
   "id": "85aed6b8-6f8d-47d1-a209-3d4e47a84b64",
   "metadata": {},
   "outputs": [],
   "source": [
    "# Load model\n",
    "# ..."
   ]
  },
  {
   "cell_type": "code",
   "execution_count": null,
   "id": "d02a5101-fc7a-4d00-aa55-7b55c621303b",
   "metadata": {},
   "outputs": [],
   "source": [
    "# Use model to predict\n",
    "# ..."
   ]
  },
  {
   "cell_type": "code",
   "execution_count": null,
   "id": "c2614899-de1b-4855-9db4-6b5595b5fcef",
   "metadata": {},
   "outputs": [],
   "source": []
  }
 ],
 "metadata": {
  "colab": {
   "provenance": []
  },
  "kernelspec": {
   "display_name": "venv",
   "language": "python",
   "name": "venv"
  },
  "language_info": {
   "codemirror_mode": {
    "name": "ipython",
    "version": 3
   },
   "file_extension": ".py",
   "mimetype": "text/x-python",
   "name": "python",
   "nbconvert_exporter": "python",
   "pygments_lexer": "ipython3",
   "version": "3.12.6"
  }
 },
 "nbformat": 4,
 "nbformat_minor": 5
}
