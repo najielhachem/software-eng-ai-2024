{
 "cells": [
  {
   "cell_type": "markdown",
   "metadata": {},
   "source": [
    "## MLflow's Model Registry"
   ]
  },
  {
   "cell_type": "code",
   "execution_count": null,
   "metadata": {},
   "outputs": [],
   "source": [
    "from mlflow.tracking import MlflowClient"
   ]
  },
  {
   "cell_type": "code",
   "execution_count": null,
   "metadata": {},
   "outputs": [],
   "source": [
    "MLFLOW_TRACKING_URI = \"sqlite:///../mlruns.db\""
   ]
  },
  {
   "cell_type": "markdown",
   "metadata": {},
   "source": [
    "### Interacting with the MLflow tracking server\n",
    "\n",
    "The `MlflowClient` object allows us to interact with...\n",
    "- an MLflow Tracking Server that creates and manages experiments and runs.\n",
    "- an MLflow Registry Server that creates and manages registered models and model versions. \n",
    "\n",
    "To instantiate it we need to pass a tracking URI and/or a registry URI"
   ]
  },
  {
   "cell_type": "code",
   "execution_count": null,
   "metadata": {},
   "outputs": [],
   "source": [
    "client = MlflowClient(tracking_uri=MLFLOW_TRACKING_URI)"
   ]
  },
  {
   "cell_type": "code",
   "execution_count": null,
   "metadata": {},
   "outputs": [],
   "source": []
  },
  {
   "cell_type": "code",
   "execution_count": null,
   "metadata": {},
   "outputs": [],
   "source": [
    "# List all experiments\n",
    "# ...\n",
    "experiments = client.search_experiments()\n",
    "for exp in experiments:\n",
    "    print(f\"Experiment [{exp.experiment_id}] - {exp.name}\")"
   ]
  },
  {
   "cell_type": "code",
   "execution_count": null,
   "metadata": {},
   "outputs": [],
   "source": [
    "experiments[0]"
   ]
  },
  {
   "cell_type": "code",
   "execution_count": null,
   "metadata": {
    "scrolled": true
   },
   "outputs": [],
   "source": [
    "# Create a new experiment\n",
    "# ...\n",
    "client.create_experiment(name=\"my-cool-experiment!\")"
   ]
  },
  {
   "cell_type": "code",
   "execution_count": null,
   "metadata": {},
   "outputs": [],
   "source": [
    "# Soft delete new experiment\n",
    "# ...\n",
    "client.delete_experiment(12)"
   ]
  },
  {
   "cell_type": "code",
   "execution_count": null,
   "metadata": {},
   "outputs": [],
   "source": [
    "# Show all experiments (with deleted ones)\n",
    "# ...\n",
    "client.search_experiments(view_type=1)"
   ]
  },
  {
   "cell_type": "code",
   "execution_count": null,
   "metadata": {},
   "outputs": [],
   "source": [
    "runs = client.search_runs(experiment_ids=11)"
   ]
  },
  {
   "cell_type": "code",
   "execution_count": null,
   "metadata": {},
   "outputs": [],
   "source": [
    "len(runs)"
   ]
  },
  {
   "cell_type": "code",
   "execution_count": null,
   "metadata": {},
   "outputs": [],
   "source": [
    "runs[0]"
   ]
  },
  {
   "cell_type": "code",
   "execution_count": null,
   "metadata": {},
   "outputs": [],
   "source": [
    "for run in runs:\n",
    "    print(f\"run id: {run.info.run_id}, train rmse: {run.data.metrics['Train RMSE']:.4f}, val rmse: {run.data.metrics['Val RMSE']}\")"
   ]
  },
  {
   "cell_type": "code",
   "execution_count": null,
   "metadata": {},
   "outputs": [],
   "source": [
    "# More detailed search\n",
    "# Search for runs using filter_string and order by\n",
    "# ...\n",
    "\n",
    "from mlflow.entities import ViewType\n",
    "\n",
    "runs = client.search_runs(\n",
    "    experiment_ids='7',\n",
    "    filter_string=\"metrics.`Train RMSE` < 6\",\n",
    "    run_view_type=ViewType.ACTIVE_ONLY,\n",
    "    max_results=5,\n",
    "    order_by=[\"metrics.`Val RMSE` ASC\"]\n",
    ")"
   ]
  },
  {
   "cell_type": "code",
   "execution_count": null,
   "metadata": {},
   "outputs": [],
   "source": [
    "for run in runs:\n",
    "    print(f\"run id: {run.info.run_id}, train rmse: {run.data.metrics['Train RMSE']:.4f}, val rmse: {run.data.metrics['Val RMSE']}\")"
   ]
  },
  {
   "cell_type": "markdown",
   "metadata": {},
   "source": [
    "### Interacting with the Model Registry\n",
    "\n",
    "In this section We will use the `MlflowClient` instance to:\n",
    "\n",
    "1. Register a model for the experiment `nyc-taxi-regressor`\n",
    "2. Retrieve the latests versions of the model `nyc-taxi-regressor` and check that a new version `4` was created.\n",
    "3. Transition the version `4` to \"Staging\" and adding annotations to it."
   ]
  },
  {
   "cell_type": "code",
   "execution_count": null,
   "metadata": {},
   "outputs": [],
   "source": [
    "# Create an empty registered model\n",
    "# ...\n",
    "REGISTERED_MODEL = \"du-ai-taxi-trips\"\n",
    "# client.create_registered_model(REGISTERED_MODEL)"
   ]
  },
  {
   "cell_type": "code",
   "execution_count": null,
   "metadata": {},
   "outputs": [],
   "source": [
    "# Create a registered model from a logged model\n",
    "# Register best run to new model\n",
    "# ...\n",
    "best_run = runs[0]\n",
    "run_id = best_run.info.run_id\n",
    "\n",
    "client.create_model_version(\n",
    "    name=REGISTERED_MODEL,\n",
    "    source=f\"runs:/{run_id}/model\"\n",
    ")"
   ]
  },
  {
   "cell_type": "code",
   "execution_count": null,
   "metadata": {},
   "outputs": [],
   "source": [
    "# List all versions of registered model\n",
    "# ...\n",
    "model_versions = client.search_model_versions(\n",
    "    filter_string=f\"name = '{REGISTERED_MODEL}'\"\n",
    ")\n",
    "model_versions"
   ]
  },
  {
   "cell_type": "code",
   "execution_count": null,
   "metadata": {},
   "outputs": [],
   "source": [
    "# Pretty pring model versions\n",
    "# ...\n",
    "for version in model_versions:\n",
    "    print(f\"version: {version.version}, source: {version.source}\")"
   ]
  },
  {
   "cell_type": "markdown",
   "metadata": {},
   "source": [
    "### Updating tags and aliases from code"
   ]
  },
  {
   "cell_type": "code",
   "execution_count": null,
   "metadata": {},
   "outputs": [],
   "source": [
    "# create \"Champion\" alias for version 1\n",
    "# ...\n",
    "# Tested model 3 in staging\n",
    "client.set_registered_model_alias(REGISTERED_MODEL, \"prod\", 3)"
   ]
  },
  {
   "cell_type": "code",
   "execution_count": null,
   "metadata": {},
   "outputs": [],
   "source": [
    "# get a model version by alias\n",
    "# ...\n",
    "client.get_model_version_by_alias(REGISTERED_MODEL, \"Champion\")"
   ]
  },
  {
   "cell_type": "code",
   "execution_count": null,
   "metadata": {},
   "outputs": [],
   "source": [
    "# reassign the \"Champion\" alias to version 2\n",
    "# ...\n",
    "client.set_registered_model_alias(REGISTERED_MODEL, \"Champion\", 2)"
   ]
  },
  {
   "cell_type": "code",
   "execution_count": null,
   "metadata": {},
   "outputs": [],
   "source": [
    "# get a model version by alias\n",
    "# ...\n",
    "client.get_model_version_by_alias(REGISTERED_MODEL, \"Champion\")"
   ]
  },
  {
   "cell_type": "code",
   "execution_count": null,
   "metadata": {},
   "outputs": [],
   "source": [
    "# delete the alias\n",
    "# ...\n",
    "client.delete_registered_model_alias(REGISTERED_MODEL, \"Champion\")"
   ]
  },
  {
   "cell_type": "code",
   "execution_count": null,
   "metadata": {},
   "outputs": [],
   "source": [
    "# get a model version by alias\n",
    "# ...\n",
    "client.get_model_version_by_alias(REGISTERED_MODEL, \"Champion\")"
   ]
  },
  {
   "cell_type": "code",
   "execution_count": null,
   "metadata": {},
   "outputs": [],
   "source": [
    "# We can do the same with tags\n",
    "# Set a tag for the registered model\n",
    "# ...\n",
    "\n",
    "# Set registered model tag\n",
    "client.set_registered_model_tag(REGISTERED_MODEL, \"task\", \"regression\")\n",
    "\n",
    "# Delete registered model tag\n",
    "client.delete_registered_model_tag(REGISTERED_MODEL, \"task\")"
   ]
  },
  {
   "cell_type": "code",
   "execution_count": null,
   "metadata": {},
   "outputs": [],
   "source": [
    "# Set a tag for a specific version of the registered model\n",
    "# Set model version tag\n",
    "client.set_model_version_tag(REGISTERED_MODEL, \"1\", \"validation_status\", \"approved\")\n",
    "\n",
    "# Delete model version tag\n",
    "client.delete_model_version_tag(REGISTERED_MODEL, \"1\", \"validation_status\")"
   ]
  },
  {
   "cell_type": "markdown",
   "metadata": {},
   "source": [
    "### Load model"
   ]
  },
  {
   "cell_type": "code",
   "execution_count": null,
   "metadata": {},
   "outputs": [],
   "source": [
    "import mlflow.pyfunc"
   ]
  },
  {
   "cell_type": "code",
   "execution_count": null,
   "metadata": {},
   "outputs": [],
   "source": [
    "# Load Registered model using a specific version\n",
    "# ...\n",
    "\n",
    "model_version = 1\n",
    "model_uri=f\"models:/{REGISTERED_MODEL}/{model_version}\"\n",
    "\n",
    "model = mlflow.pyfunc.load_model(model_uri=model_uri)\n",
    "model"
   ]
  },
  {
   "cell_type": "code",
   "execution_count": null,
   "metadata": {},
   "outputs": [],
   "source": [
    "# Load Registered model using alias\n",
    "# ...\n",
    "\n",
    "alias = \"champion\"\n",
    "model_uri=f\"models:/{REGISTERED_MODEL}@{alias}\"\n",
    "\n",
    "champion_version = mlflow.pyfunc.load_model(model_uri=model_uri)\n",
    "champion_version"
   ]
  },
  {
   "cell_type": "markdown",
   "metadata": {},
   "source": [
    "### Promote Model"
   ]
  },
  {
   "cell_type": "code",
   "execution_count": null,
   "metadata": {},
   "outputs": [],
   "source": [
    "# Set a candidate tag for a specific version\n",
    "# ...\n",
    "client.set_registered_model_alias(REGISTERED_MODEL, \"candidate\", 3)"
   ]
  },
  {
   "cell_type": "code",
   "execution_count": null,
   "metadata": {},
   "outputs": [],
   "source": [
    "client.search_model_versions(f\"name='{REGISTERED_MODEL}'\")"
   ]
  },
  {
   "cell_type": "code",
   "execution_count": null,
   "metadata": {},
   "outputs": [],
   "source": [
    "client.copy_model_version(\n",
    "    src_model_uri=f\"models:/{REGISTERED_MODEL}@candidate\",\n",
    "    dst_name=\"regression-model-production\",\n",
    ")\n"
   ]
  }
 ],
 "metadata": {
  "interpreter": {
   "hash": "0848c9d6c7d415ad6c477ff7ff8e98694d1a4aa96d0deee89244642e6b630036"
  },
  "kernelspec": {
   "display_name": "Python 3 (ipykernel)",
   "language": "python",
   "name": "python3"
  },
  "language_info": {
   "codemirror_mode": {
    "name": "ipython",
    "version": 3
   },
   "file_extension": ".py",
   "mimetype": "text/x-python",
   "name": "python",
   "nbconvert_exporter": "python",
   "pygments_lexer": "ipython3",
   "version": "3.12.6"
  }
 },
 "nbformat": 4,
 "nbformat_minor": 4
}
